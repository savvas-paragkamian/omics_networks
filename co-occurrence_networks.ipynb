{
 "cells": [
  {
   "cell_type": "code",
   "execution_count": 3,
   "id": "202eced6-0247-425a-bd48-ed0fd0d362c2",
   "metadata": {},
   "outputs": [],
   "source": [
    "import sys\n",
    "import pandas as pd\n",
    "import networkx as nx\n",
    "import pygraphviz\n",
    "import matplotlib.pyplot as plt\n",
    "import igraph as ig\n",
    "from collections import Counter\n",
    "from collections import defaultdict\n",
    "from scipy import stats\n",
    "from scipy.stats import gmean\n",
    "from skbio.stats.composition import clr\n",
    "from sklearn import decomposition, preprocessing\n",
    "import numpy as np"
   ]
  },
  {
   "cell_type": "code",
   "execution_count": 11,
   "id": "27529f0a-cf1e-4e91-874c-8b9b60eb03be",
   "metadata": {
    "scrolled": true
   },
   "outputs": [
    {
     "name": "stdout",
     "output_type": "stream",
     "text": [
      "      ENA_RUN  Abditibacterium  Bryobacter  Candidatus Solibacter  11-24  \\\n",
      "0  ERR3697652                9          70                      2      2   \n",
      "1  ERR3697653                4          79                      1     10   \n",
      "2  ERR3697654                0          82                      7     30   \n",
      "3  ERR3697655                0          78                      0      2   \n",
      "4  ERR3697656                2         121                      2     12   \n",
      "\n",
      "   Aridibacter  Blastocatella  JGI 0001001-H03  Stenotrophobacter  \\\n",
      "0           10              3               21                 13   \n",
      "1           15              2               10                 16   \n",
      "2           14              5               13                 17   \n",
      "3           16              4                0                  0   \n",
      "4           28             37               15                 23   \n",
      "\n",
      "   Blastocatellaceae  ...  1921-2  HSB OF53-F07  Virgibacillus zhanjiangensis  \\\n",
      "0                 39  ...       0             0                             0   \n",
      "1                 37  ...       0             0                             0   \n",
      "2                 44  ...       0             0                             0   \n",
      "3                 40  ...       0             0                             0   \n",
      "4                 62  ...       0             0                             0   \n",
      "\n",
      "   Simplicispira  Amycolatopsis lactamdurans  Enterococcus asini  \\\n",
      "0              0                           0                   0   \n",
      "1              0                           0                   0   \n",
      "2              0                           0                   0   \n",
      "3              0                           0                   0   \n",
      "4              0                           0                   0   \n",
      "\n",
      "   Streptococcus oralis  Azospirillum brasilense  Nitrosomonas ureae  \\\n",
      "0                     0                        0                   0   \n",
      "1                     0                        0                   0   \n",
      "2                     0                        0                   0   \n",
      "3                     0                        0                   0   \n",
      "4                     0                        0                   0   \n",
      "\n",
      "   Teredinibacter  \n",
      "0               0  \n",
      "1               0  \n",
      "2               0  \n",
      "3               0  \n",
      "4               0  \n",
      "\n",
      "[5 rows x 2705 columns]\n"
     ]
    }
   ],
   "source": [
    "sample_metadata = pd.read_csv(\"data/community_matrix.tsv\",sep=\"\\t\", encoding=\"utf-8\")\n",
    "print(sample_metadata.head())"
   ]
  },
  {
   "cell_type": "code",
   "execution_count": 9,
   "id": "caeb2e79-3d09-44b7-b81a-b6e39e19224b",
   "metadata": {},
   "outputs": [
    {
     "name": "stdout",
     "output_type": "stream",
     "text": [
      "Detected Encoding: ascii\n"
     ]
    }
   ],
   "source": [
    "import chardet\n",
    "\n",
    "with open(\"data/community_matrix.tsv\", \"rb\") as f:\n",
    "    raw_data = f.read(100000)  # Read a large chunk to improve detection\n",
    "    result = chardet.detect(raw_data)\n",
    "    detected_encoding = result[\"encoding\"]\n",
    "    print(f\"Detected Encoding: {detected_encoding}\")\n"
   ]
  },
  {
   "cell_type": "code",
   "execution_count": null,
   "id": "3b85d2d0-71dc-4a7d-aae8-1ea6dc824373",
   "metadata": {},
   "outputs": [],
   "source": []
  },
  {
   "cell_type": "code",
   "execution_count": null,
   "id": "99f45816-6779-439e-9a8a-f3731565b528",
   "metadata": {},
   "outputs": [],
   "source": []
  }
 ],
 "metadata": {
  "kernelspec": {
   "display_name": "Python 3 (ipykernel)",
   "language": "python",
   "name": "python3"
  },
  "language_info": {
   "codemirror_mode": {
    "name": "ipython",
    "version": 3
   },
   "file_extension": ".py",
   "mimetype": "text/x-python",
   "name": "python",
   "nbconvert_exporter": "python",
   "pygments_lexer": "ipython3",
   "version": "3.13.2"
  }
 },
 "nbformat": 4,
 "nbformat_minor": 5
}
